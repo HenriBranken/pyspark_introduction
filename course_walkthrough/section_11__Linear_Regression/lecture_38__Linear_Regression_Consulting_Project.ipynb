{
 "cells": [
  {
   "cell_type": "markdown",
   "metadata": {},
   "source": [
    "# Linear Regression Consulting Project.\n",
    "\n",
    "## (Henri's Solution + Additional Comments)\n",
    "\n",
    "You've been contracted by Hyundai Heavy Industries to help them build a predictive model for some ships.\n",
    "\n",
    "You've been flown out to their HQ in Ulsan, South Korea!\n",
    "\n",
    "Hyundai is one of the world's largest manufacturers of large ships, including cruise liners!\n",
    "\n",
    "They need your help to give them accurate estimates of how many crew members a ship will require.\n",
    "\n",
    "They are currently selling ships to some new customers and want you to create a model and use it to predict how many crew members the ships will need.\n",
    "\n",
    "They provided you data with these features:\n",
    "- Ship Name\n",
    "- Cruise Line\n",
    "- Age (as of 2013)\n",
    "- Tonnage (1000s of tons)\n",
    "- passengers (100s)\n",
    "- Length (100s of feet)\n",
    "- Cabins (100s)\n",
    "- Passenger Density\n",
    "- Crew (100s)\n",
    "\n",
    "Your job is to create a regression model that will help predict how many crew members will be needed for future ships.\n",
    "\n",
    "In other words, use the features you think will be useful to predict the value in the Crew column.\n",
    "\n",
    "The client also mentioned that they have found that particular cruise lines will differ in acceptable crew counts, so it is most likely an important feature to include in your analysis!\n",
    "\n",
    "The cruise line value is a string however!\n",
    "\n",
    "We have not covered exactly how to convert strings to numbers with Python and Spark (yet).\n",
    "\n",
    "Try to see if you can discover how to use **StringIndexer** from the documentation!\n",
    "\n",
    "As in any real world project, there are no \"100% correct\" answers here.\n",
    "\n",
    "Just try your best to build the model!\n",
    "\n",
    "You can optionally see if you can figure out **StringIndexer** on your own (we'll cover it more formally in future lectures).\n",
    "\n",
    "There can be more than one way to create this model.\n",
    "\n",
    "All of the necessary information for the project can be found in the files:\n",
    "- ```Linear_Regression_Consulting_Project.ipynb```\n",
    "- ```cruise_ship_info.csv```"
   ]
  },
  {
   "cell_type": "code",
   "execution_count": 1,
   "metadata": {},
   "outputs": [],
   "source": [
    "from pyspark.sql import SparkSession\n",
    "\n",
    "# Start a SparkSession\n",
    "spark = SparkSession.builder.appName(\"hyundai\").getOrCreate()"
   ]
  },
  {
   "cell_type": "code",
   "execution_count": 2,
   "metadata": {},
   "outputs": [],
   "source": [
    "from pyspark.ml.regression import LinearRegression"
   ]
  },
  {
   "cell_type": "code",
   "execution_count": 3,
   "metadata": {},
   "outputs": [],
   "source": [
    "# Get the data.\n",
    "data = spark.read.csv(\"cruise_ship_info.csv\", inferSchema=True, header=True)"
   ]
  },
  {
   "cell_type": "code",
   "execution_count": 4,
   "metadata": {},
   "outputs": [
    {
     "name": "stdout",
     "output_type": "stream",
     "text": [
      "root\n",
      " |-- Ship_name: string (nullable = true)\n",
      " |-- Cruise_line: string (nullable = true)\n",
      " |-- Age: integer (nullable = true)\n",
      " |-- Tonnage: double (nullable = true)\n",
      " |-- passengers: double (nullable = true)\n",
      " |-- length: double (nullable = true)\n",
      " |-- cabins: double (nullable = true)\n",
      " |-- passenger_density: double (nullable = true)\n",
      " |-- crew: double (nullable = true)\n",
      "\n"
     ]
    }
   ],
   "source": [
    "data.printSchema()\n",
    "\n",
    "# The actual value that we are trying to predict is \"crew\"."
   ]
  },
  {
   "cell_type": "code",
   "execution_count": 27,
   "metadata": {},
   "outputs": [
    {
     "name": "stdout",
     "output_type": "stream",
     "text": [
      "Row(Ship_name='Journey', Cruise_line='Azamara', Age=6, Tonnage=30.276999999999997, passengers=6.94, length=5.94, cabins=3.55, passenger_density=42.64, crew=3.55)\n",
      "\n",
      "\n",
      "Row(Ship_name='Quest', Cruise_line='Azamara', Age=6, Tonnage=30.276999999999997, passengers=6.94, length=5.94, cabins=3.55, passenger_density=42.64, crew=3.55)\n",
      "\n",
      "\n",
      "Row(Ship_name='Celebration', Cruise_line='Carnival', Age=26, Tonnage=47.262, passengers=14.86, length=7.22, cabins=7.43, passenger_density=31.8, crew=6.7)\n",
      "\n",
      "\n",
      "Row(Ship_name='Conquest', Cruise_line='Carnival', Age=11, Tonnage=110.0, passengers=29.74, length=9.53, cabins=14.88, passenger_density=36.99, crew=19.1)\n",
      "\n",
      "\n",
      "Row(Ship_name='Destiny', Cruise_line='Carnival', Age=17, Tonnage=101.353, passengers=26.42, length=8.92, cabins=13.21, passenger_density=38.36, crew=10.0)\n",
      "\n",
      "\n"
     ]
    }
   ],
   "source": [
    "# Just some Explanatory Data Analysis.\n",
    "for ship in data.head(5):\n",
    "    print(ship)\n",
    "    print(\"\\n\")"
   ]
  },
  {
   "cell_type": "code",
   "execution_count": 5,
   "metadata": {
    "scrolled": true
   },
   "outputs": [
    {
     "name": "stdout",
     "output_type": "stream",
     "text": [
      "+-----------+-----------+---+------------------+----------+------+------+-----------------+----+\n",
      "|  Ship_name|Cruise_line|Age|           Tonnage|passengers|length|cabins|passenger_density|crew|\n",
      "+-----------+-----------+---+------------------+----------+------+------+-----------------+----+\n",
      "|    Journey|    Azamara|  6|30.276999999999997|      6.94|  5.94|  3.55|            42.64|3.55|\n",
      "|      Quest|    Azamara|  6|30.276999999999997|      6.94|  5.94|  3.55|            42.64|3.55|\n",
      "|Celebration|   Carnival| 26|            47.262|     14.86|  7.22|  7.43|             31.8| 6.7|\n",
      "|   Conquest|   Carnival| 11|             110.0|     29.74|  9.53| 14.88|            36.99|19.1|\n",
      "|    Destiny|   Carnival| 17|           101.353|     26.42|  8.92| 13.21|            38.36|10.0|\n",
      "|    Ecstasy|   Carnival| 22|            70.367|     20.52|  8.55|  10.2|            34.29| 9.2|\n",
      "|    Elation|   Carnival| 15|            70.367|     20.52|  8.55|  10.2|            34.29| 9.2|\n",
      "|    Fantasy|   Carnival| 23|            70.367|     20.56|  8.55| 10.22|            34.23| 9.2|\n",
      "|Fascination|   Carnival| 19|            70.367|     20.52|  8.55|  10.2|            34.29| 9.2|\n",
      "|    Freedom|   Carnival|  6|110.23899999999999|      37.0|  9.51| 14.87|            29.79|11.5|\n",
      "|      Glory|   Carnival| 10|             110.0|     29.74|  9.51| 14.87|            36.99|11.6|\n",
      "|    Holiday|   Carnival| 28|            46.052|     14.52|  7.27|  7.26|            31.72| 6.6|\n",
      "|Imagination|   Carnival| 18|            70.367|     20.52|  8.55|  10.2|            34.29| 9.2|\n",
      "|Inspiration|   Carnival| 17|            70.367|     20.52|  8.55|  10.2|            34.29| 9.2|\n",
      "|     Legend|   Carnival| 11|              86.0|     21.24|  9.63| 10.62|            40.49| 9.3|\n",
      "|   Liberty*|   Carnival|  8|             110.0|     29.74|  9.51| 14.87|            36.99|11.6|\n",
      "|    Miracle|   Carnival|  9|              88.5|     21.24|  9.63| 10.62|            41.67|10.3|\n",
      "|   Paradise|   Carnival| 15|            70.367|     20.52|  8.55|  10.2|            34.29| 9.2|\n",
      "|      Pride|   Carnival| 12|              88.5|     21.24|  9.63| 11.62|            41.67| 9.3|\n",
      "|  Sensation|   Carnival| 20|            70.367|     20.52|  8.55|  10.2|            34.29| 9.2|\n",
      "+-----------+-----------+---+------------------+----------+------+------+-----------------+----+\n",
      "only showing top 20 rows\n",
      "\n",
      "The total number of data samples is: 158.\n"
     ]
    }
   ],
   "source": [
    "data.show()\n",
    "print(\"The total number of data samples is: {:.0f}.\".format(data.count()))"
   ]
  },
  {
   "cell_type": "code",
   "execution_count": 28,
   "metadata": {},
   "outputs": [
    {
     "name": "stdout",
     "output_type": "stream",
     "text": [
      "+-----------------+-----+\n",
      "|      Cruise_line|count|\n",
      "+-----------------+-----+\n",
      "|            Costa|   11|\n",
      "|              P&O|    6|\n",
      "|           Cunard|    3|\n",
      "|Regent_Seven_Seas|    5|\n",
      "|              MSC|    8|\n",
      "|         Carnival|   22|\n",
      "|          Crystal|    2|\n",
      "|           Orient|    1|\n",
      "|         Princess|   17|\n",
      "|        Silversea|    4|\n",
      "|         Seabourn|    3|\n",
      "| Holland_American|   14|\n",
      "|         Windstar|    3|\n",
      "|           Disney|    2|\n",
      "|        Norwegian|   13|\n",
      "|          Oceania|    3|\n",
      "|          Azamara|    2|\n",
      "|        Celebrity|   10|\n",
      "|             Star|    6|\n",
      "|  Royal_Caribbean|   23|\n",
      "+-----------------+-----+\n",
      "\n"
     ]
    }
   ],
   "source": [
    "data.groupBy(\"Cruise_line\").count().show()"
   ]
  },
  {
   "cell_type": "code",
   "execution_count": 6,
   "metadata": {},
   "outputs": [],
   "source": [
    "from pyspark.ml.feature import StringIndexer\n",
    "# Henri's question is why you are not using one-hot encoding???\n",
    "# The instructor admits though that this is not the most optimal way to deal with this data."
   ]
  },
  {
   "cell_type": "code",
   "execution_count": 7,
   "metadata": {},
   "outputs": [
    {
     "name": "stdout",
     "output_type": "stream",
     "text": [
      "+-----------+-----------+---+------------------+----------+------+------+-----------------+----+------------+\n",
      "|  Ship_name|Cruise_line|Age|           Tonnage|passengers|length|cabins|passenger_density|crew|cruise_index|\n",
      "+-----------+-----------+---+------------------+----------+------+------+-----------------+----+------------+\n",
      "|    Journey|    Azamara|  6|30.276999999999997|      6.94|  5.94|  3.55|            42.64|3.55|        16.0|\n",
      "|      Quest|    Azamara|  6|30.276999999999997|      6.94|  5.94|  3.55|            42.64|3.55|        16.0|\n",
      "|Celebration|   Carnival| 26|            47.262|     14.86|  7.22|  7.43|             31.8| 6.7|         1.0|\n",
      "|   Conquest|   Carnival| 11|             110.0|     29.74|  9.53| 14.88|            36.99|19.1|         1.0|\n",
      "|    Destiny|   Carnival| 17|           101.353|     26.42|  8.92| 13.21|            38.36|10.0|         1.0|\n",
      "|    Ecstasy|   Carnival| 22|            70.367|     20.52|  8.55|  10.2|            34.29| 9.2|         1.0|\n",
      "|    Elation|   Carnival| 15|            70.367|     20.52|  8.55|  10.2|            34.29| 9.2|         1.0|\n",
      "|    Fantasy|   Carnival| 23|            70.367|     20.56|  8.55| 10.22|            34.23| 9.2|         1.0|\n",
      "|Fascination|   Carnival| 19|            70.367|     20.52|  8.55|  10.2|            34.29| 9.2|         1.0|\n",
      "|    Freedom|   Carnival|  6|110.23899999999999|      37.0|  9.51| 14.87|            29.79|11.5|         1.0|\n",
      "|      Glory|   Carnival| 10|             110.0|     29.74|  9.51| 14.87|            36.99|11.6|         1.0|\n",
      "|    Holiday|   Carnival| 28|            46.052|     14.52|  7.27|  7.26|            31.72| 6.6|         1.0|\n",
      "|Imagination|   Carnival| 18|            70.367|     20.52|  8.55|  10.2|            34.29| 9.2|         1.0|\n",
      "|Inspiration|   Carnival| 17|            70.367|     20.52|  8.55|  10.2|            34.29| 9.2|         1.0|\n",
      "|     Legend|   Carnival| 11|              86.0|     21.24|  9.63| 10.62|            40.49| 9.3|         1.0|\n",
      "|   Liberty*|   Carnival|  8|             110.0|     29.74|  9.51| 14.87|            36.99|11.6|         1.0|\n",
      "|    Miracle|   Carnival|  9|              88.5|     21.24|  9.63| 10.62|            41.67|10.3|         1.0|\n",
      "|   Paradise|   Carnival| 15|            70.367|     20.52|  8.55|  10.2|            34.29| 9.2|         1.0|\n",
      "|      Pride|   Carnival| 12|              88.5|     21.24|  9.63| 11.62|            41.67| 9.3|         1.0|\n",
      "|  Sensation|   Carnival| 20|            70.367|     20.52|  8.55|  10.2|            34.29| 9.2|         1.0|\n",
      "+-----------+-----------+---+------------------+----------+------+------+-----------------+----+------------+\n",
      "only showing top 20 rows\n",
      "\n",
      "158\n"
     ]
    }
   ],
   "source": [
    "indexer = StringIndexer(inputCol=\"Cruise_line\", outputCol=\"cruise_index\", handleInvalid=\"skip\")\n",
    "# A label indexer that maps a string column of labels to an ML column of label indices.\n",
    "# The indices span the range [0, numLabels).  By default, this is ordered by label frequencies so the most\n",
    "# frequent label gets index 0.\n",
    "\n",
    "final_data = indexer.fit(data).transform(data)\n",
    "final_data.show()\n",
    "print(final_data.count())"
   ]
  },
  {
   "cell_type": "code",
   "execution_count": 8,
   "metadata": {},
   "outputs": [
    {
     "data": {
      "text/plain": [
       "['Ship_name',\n",
       " 'Cruise_line',\n",
       " 'Age',\n",
       " 'Tonnage',\n",
       " 'passengers',\n",
       " 'length',\n",
       " 'cabins',\n",
       " 'passenger_density',\n",
       " 'crew',\n",
       " 'cruise_index']"
      ]
     },
     "execution_count": 8,
     "metadata": {},
     "output_type": "execute_result"
    }
   ],
   "source": [
    "final_data.columns"
   ]
  },
  {
   "cell_type": "code",
   "execution_count": 9,
   "metadata": {},
   "outputs": [],
   "source": [
    "# Firstly, we need to import the vector assembler:\n",
    "from pyspark.ml.feature import VectorAssembler"
   ]
  },
  {
   "cell_type": "code",
   "execution_count": 10,
   "metadata": {},
   "outputs": [],
   "source": [
    "# Proceed by creating an assembler object:\n",
    "assembler = VectorAssembler(inputCols=['Age',\n",
    "                                       'Tonnage',\n",
    "                                       'passengers',\n",
    "                                       'length',\n",
    "                                       'cabins',\n",
    "                                       'passenger_density',\n",
    "                                       'cruise_index'],\n",
    "                           outputCol=\"features\")\n",
    "\n",
    "# A feature transformer that merges multiple columns into a vector column."
   ]
  },
  {
   "cell_type": "code",
   "execution_count": 11,
   "metadata": {},
   "outputs": [
    {
     "name": "stdout",
     "output_type": "stream",
     "text": [
      "root\n",
      " |-- Ship_name: string (nullable = true)\n",
      " |-- Cruise_line: string (nullable = true)\n",
      " |-- Age: integer (nullable = true)\n",
      " |-- Tonnage: double (nullable = true)\n",
      " |-- passengers: double (nullable = true)\n",
      " |-- length: double (nullable = true)\n",
      " |-- cabins: double (nullable = true)\n",
      " |-- passenger_density: double (nullable = true)\n",
      " |-- crew: double (nullable = true)\n",
      " |-- cruise_index: double (nullable = false)\n",
      " |-- features: vector (nullable = true)\n",
      "\n"
     ]
    }
   ],
   "source": [
    "# Now, we need to transform the data:\n",
    "output = assembler.transform(final_data)\n",
    "output.printSchema()"
   ]
  },
  {
   "cell_type": "code",
   "execution_count": 12,
   "metadata": {},
   "outputs": [
    {
     "data": {
      "text/plain": [
       "DenseVector([6.0, 30.277, 6.94, 5.94, 3.55, 42.64, 16.0])"
      ]
     },
     "execution_count": 12,
     "metadata": {},
     "output_type": "execute_result"
    }
   ],
   "source": [
    "output.head(1)[0][-1]"
   ]
  },
  {
   "cell_type": "code",
   "execution_count": 13,
   "metadata": {},
   "outputs": [
    {
     "name": "stdout",
     "output_type": "stream",
     "text": [
      "+--------------------+----+\n",
      "|            features|crew|\n",
      "+--------------------+----+\n",
      "|[6.0,30.276999999...|3.55|\n",
      "|[6.0,30.276999999...|3.55|\n",
      "|[26.0,47.262,14.8...| 6.7|\n",
      "|[11.0,110.0,29.74...|19.1|\n",
      "|[17.0,101.353,26....|10.0|\n",
      "|[22.0,70.367,20.5...| 9.2|\n",
      "|[15.0,70.367,20.5...| 9.2|\n",
      "|[23.0,70.367,20.5...| 9.2|\n",
      "|[19.0,70.367,20.5...| 9.2|\n",
      "|[6.0,110.23899999...|11.5|\n",
      "|[10.0,110.0,29.74...|11.6|\n",
      "|[28.0,46.052,14.5...| 6.6|\n",
      "|[18.0,70.367,20.5...| 9.2|\n",
      "|[17.0,70.367,20.5...| 9.2|\n",
      "|[11.0,86.0,21.24,...| 9.3|\n",
      "|[8.0,110.0,29.74,...|11.6|\n",
      "|[9.0,88.5,21.24,9...|10.3|\n",
      "|[15.0,70.367,20.5...| 9.2|\n",
      "|[12.0,88.5,21.24,...| 9.3|\n",
      "|[20.0,70.367,20.5...| 9.2|\n",
      "+--------------------+----+\n",
      "only showing top 20 rows\n",
      "\n"
     ]
    }
   ],
   "source": [
    "# Next, we need to create our cleaned data\n",
    "cleaned_data = output.select([\"features\", \"crew\"])\n",
    "\n",
    "cleaned_data.show()"
   ]
  },
  {
   "cell_type": "code",
   "execution_count": 14,
   "metadata": {},
   "outputs": [],
   "source": [
    "# Next, we need to split cleaned_data into a train/test split:\n",
    "train_data, test_data = cleaned_data.randomSplit([0.7, 0.3], seed=123)"
   ]
  },
  {
   "cell_type": "code",
   "execution_count": 15,
   "metadata": {},
   "outputs": [
    {
     "name": "stdout",
     "output_type": "stream",
     "text": [
      "+-------+------------------+\n",
      "|summary|              crew|\n",
      "+-------+------------------+\n",
      "|  count|               107|\n",
      "|   mean| 7.650560747663561|\n",
      "| stddev|3.5746763494546427|\n",
      "|    min|               0.6|\n",
      "|    max|              21.0|\n",
      "+-------+------------------+\n",
      "\n"
     ]
    }
   ],
   "source": [
    "train_data.describe().show()"
   ]
  },
  {
   "cell_type": "code",
   "execution_count": 16,
   "metadata": {},
   "outputs": [
    {
     "name": "stdout",
     "output_type": "stream",
     "text": [
      "+-------+-----------------+\n",
      "|summary|             crew|\n",
      "+-------+-----------------+\n",
      "|  count|               51|\n",
      "|   mean|8.095490196078426|\n",
      "| stddev| 3.36376414971412|\n",
      "|    min|             0.59|\n",
      "|    max|             13.6|\n",
      "+-------+-----------------+\n",
      "\n"
     ]
    }
   ],
   "source": [
    "test_data.describe().show()"
   ]
  },
  {
   "cell_type": "markdown",
   "metadata": {},
   "source": [
    "**Now, let us focus on creating our Linear Regression Model:**"
   ]
  },
  {
   "cell_type": "code",
   "execution_count": 17,
   "metadata": {},
   "outputs": [],
   "source": [
    "# Instantiate a LinearRegression model object:\n",
    "lr = LinearRegression(labelCol=\"crew\")"
   ]
  },
  {
   "cell_type": "code",
   "execution_count": 18,
   "metadata": {},
   "outputs": [],
   "source": [
    "lr_model = lr.fit(dataset=train_data)"
   ]
  },
  {
   "cell_type": "markdown",
   "metadata": {},
   "source": [
    "**Let us see how well our model actually performed.**"
   ]
  },
  {
   "cell_type": "code",
   "execution_count": 19,
   "metadata": {},
   "outputs": [],
   "source": [
    "test_results = lr_model.evaluate(dataset=test_data)  # Evaluates the model on a test dataset."
   ]
  },
  {
   "cell_type": "code",
   "execution_count": 20,
   "metadata": {},
   "outputs": [
    {
     "name": "stdout",
     "output_type": "stream",
     "text": [
      "+--------------------+\n",
      "|           residuals|\n",
      "+--------------------+\n",
      "| -1.2436453515613266|\n",
      "| 0.39555679536734445|\n",
      "|   0.779325033202305|\n",
      "|  -1.114539935828752|\n",
      "|  0.5293319265632839|\n",
      "| -0.7364868100479445|\n",
      "|-0.21066095651902295|\n",
      "| 0.38350662903607535|\n",
      "| -0.5080006970434567|\n",
      "|  0.9417292283530454|\n",
      "| -0.2762836267021136|\n",
      "| -0.2190190001522314|\n",
      "| -0.4508245338709269|\n",
      "| -0.6320049581569318|\n",
      "|  -1.306349795830993|\n",
      "| 0.25182903824420055|\n",
      "|  0.9684292315668621|\n",
      "|  0.8036265196989678|\n",
      "|  -0.238710224099826|\n",
      "|  0.8347557051448913|\n",
      "+--------------------+\n",
      "only showing top 20 rows\n",
      "\n"
     ]
    }
   ],
   "source": [
    "test_results.residuals.show()"
   ]
  },
  {
   "cell_type": "code",
   "execution_count": 21,
   "metadata": {
    "scrolled": true
   },
   "outputs": [
    {
     "name": "stdout",
     "output_type": "stream",
     "text": [
      "The RMSE is:      0.8232.\n",
      "The r^2 is:       0.9389.\n",
      "The r^2_adj is:   0.9290.\n",
      "\n",
      "\n",
      "+-------+-----------------+\n",
      "|summary|             crew|\n",
      "+-------+-----------------+\n",
      "|  count|              158|\n",
      "|   mean|7.794177215189873|\n",
      "| stddev|3.503486564627034|\n",
      "|    min|             0.59|\n",
      "|    max|             21.0|\n",
      "+-------+-----------------+\n",
      "\n"
     ]
    }
   ],
   "source": [
    "print(\"The RMSE is:    {:8.4f}.\".format(test_results.rootMeanSquaredError))\n",
    "print(\"The r^2 is:     {:8.4f}.\".format(test_results.r2))  # How much of the variance is explained by the model.\n",
    "print(\"The r^2_adj is: {:8.4f}.\".format(test_results.r2adj))\n",
    "print(\"\\n\")\n",
    "\n",
    "cleaned_data.describe().show()\n",
    "\n",
    "# Implies that some of our columns are highly correlated with the \"crew\" column."
   ]
  },
  {
   "cell_type": "code",
   "execution_count": 29,
   "metadata": {},
   "outputs": [],
   "source": [
    "from pyspark.sql.functions import corr"
   ]
  },
  {
   "cell_type": "code",
   "execution_count": 31,
   "metadata": {},
   "outputs": [
    {
     "name": "stdout",
     "output_type": "stream",
     "text": [
      "+----------------------+------------------+\n",
      "|corr(crew, passengers)|corr(crew, cabins)|\n",
      "+----------------------+------------------+\n",
      "|    0.9152341306065384|0.9508226063578497|\n",
      "+----------------------+------------------+\n",
      "\n"
     ]
    }
   ],
   "source": [
    "data.select([corr(\"crew\", \"passengers\"), corr(\"crew\", \"cabins\")]).show()\n",
    "\n",
    "# A pearson r^2 coefficient of 0.9 is quite high/significant."
   ]
  },
  {
   "cell_type": "markdown",
   "metadata": {},
   "source": [
    "**Let us review how we can deploy this model for data for which we only have feature data (and no label data).**"
   ]
  },
  {
   "cell_type": "code",
   "execution_count": 22,
   "metadata": {},
   "outputs": [
    {
     "name": "stdout",
     "output_type": "stream",
     "text": [
      "+--------------------+\n",
      "|            features|\n",
      "+--------------------+\n",
      "|[5.0,86.0,21.04,9...|\n",
      "|[5.0,115.0,35.74,...|\n",
      "|[5.0,122.0,28.5,1...|\n",
      "|[6.0,90.0,20.0,9....|\n",
      "|[6.0,110.23899999...|\n",
      "|[7.0,116.0,31.0,9...|\n",
      "|[7.0,158.0,43.7,1...|\n",
      "|[8.0,77.499,19.5,...|\n",
      "|[9.0,90.09,25.01,...|\n",
      "|[9.0,113.0,26.74,...|\n",
      "|[9.0,116.0,26.0,9...|\n",
      "|[10.0,68.0,10.8,7...|\n",
      "|[10.0,86.0,21.14,...|\n",
      "|[10.0,105.0,27.2,...|\n",
      "|[10.0,138.0,31.14...|\n",
      "|[11.0,58.6,15.66,...|\n",
      "|[11.0,90.0,22.4,9...|\n",
      "|[11.0,91.0,20.32,...|\n",
      "|[11.0,91.62700000...|\n",
      "|[11.0,108.977,26....|\n",
      "+--------------------+\n",
      "only showing top 20 rows\n",
      "\n"
     ]
    }
   ],
   "source": [
    "# We are only mimicking the process:\n",
    "unlabeled_data = test_data.select([\"features\"])\n",
    "unlabeled_data.show()"
   ]
  },
  {
   "cell_type": "code",
   "execution_count": 23,
   "metadata": {},
   "outputs": [],
   "source": [
    "predictions = lr_model.transform(dataset=unlabeled_data)  # Transforms the input dataset with optional parameters."
   ]
  },
  {
   "cell_type": "code",
   "execution_count": 24,
   "metadata": {},
   "outputs": [
    {
     "name": "stdout",
     "output_type": "stream",
     "text": [
      "+--------------------+------------------+\n",
      "|            features|        prediction|\n",
      "+--------------------+------------------+\n",
      "|[5.0,86.0,21.04,9...| 9.243645351561327|\n",
      "|[5.0,115.0,35.74,...|11.804443204632655|\n",
      "|[5.0,122.0,28.5,1...| 5.920674966797695|\n",
      "|[6.0,90.0,20.0,9....|10.114539935828752|\n",
      "|[6.0,110.23899999...|10.970668073436716|\n",
      "|[7.0,116.0,31.0,9...|12.736486810047944|\n",
      "|[7.0,158.0,43.7,1...|13.810660956519023|\n",
      "|[8.0,77.499,19.5,...| 8.616493370963925|\n",
      "|[9.0,90.09,25.01,...| 9.198000697043456|\n",
      "|[9.0,113.0,26.74,...|11.438270771646955|\n",
      "|[9.0,116.0,26.0,9...|11.276283626702114|\n",
      "|[10.0,68.0,10.8,7...| 6.579019000152232|\n",
      "|[10.0,86.0,21.14,...| 9.650824533870926|\n",
      "|[10.0,105.0,27.2,...|11.312004958156932|\n",
      "|[10.0,138.0,31.14...|13.156349795830993|\n",
      "|[11.0,58.6,15.66,...| 7.348170961755799|\n",
      "|[11.0,90.0,22.4,9...|10.031570768433138|\n",
      "|[11.0,91.0,20.32,...| 9.186373480301032|\n",
      "|[11.0,91.62700000...| 9.238710224099826|\n",
      "|[11.0,108.977,26....|11.165244294855109|\n",
      "+--------------------+------------------+\n",
      "only showing top 20 rows\n",
      "\n"
     ]
    }
   ],
   "source": [
    "predictions.show()"
   ]
  }
 ],
 "metadata": {
  "kernelspec": {
   "display_name": "Python 3",
   "language": "python",
   "name": "python3"
  },
  "language_info": {
   "codemirror_mode": {
    "name": "ipython",
    "version": 3
   },
   "file_extension": ".py",
   "mimetype": "text/x-python",
   "name": "python",
   "nbconvert_exporter": "python",
   "pygments_lexer": "ipython3",
   "version": "3.7.3"
  }
 },
 "nbformat": 4,
 "nbformat_minor": 2
}
