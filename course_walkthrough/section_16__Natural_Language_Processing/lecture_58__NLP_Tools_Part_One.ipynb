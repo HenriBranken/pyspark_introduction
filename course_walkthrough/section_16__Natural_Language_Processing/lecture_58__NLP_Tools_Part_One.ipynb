{
 "cells": [
  {
   "cell_type": "markdown",
   "metadata": {},
   "source": [
    "# NLP Tools Part One\n",
    "\n",
    "### (Henri's Version)\n",
    "\n",
    "Before we jump into the code along project, let's explore a few of the tools Spark has for dealing with text data.\n",
    "\n",
    "Then we'll be able to use them easily in our project!"
   ]
  },
  {
   "cell_type": "code",
   "execution_count": 1,
   "metadata": {},
   "outputs": [],
   "source": [
    "from pyspark.sql import SparkSession"
   ]
  },
  {
   "cell_type": "code",
   "execution_count": 2,
   "metadata": {},
   "outputs": [],
   "source": [
    "spark = SparkSession.builder.appName(\"nlp\").getOrCreate()"
   ]
  },
  {
   "cell_type": "markdown",
   "metadata": {},
   "source": [
    "### First discuss tokenizers and tokenization.\n",
    "\n",
    "Tokenization is the process of taking text, such as a sentence, and then breaking it into inividual terms that is usually words."
   ]
  },
  {
   "cell_type": "code",
   "execution_count": 3,
   "metadata": {},
   "outputs": [],
   "source": [
    "from pyspark.sql.functions import col, udf\n",
    "# pyspark.sql.functions.col(col) --> Returns a Column based on the given column name.\n",
    "\n",
    "# pyspark.sql.functions.udf(f=None, returnType=StringType) --> Creates a user defined function (UDF).\n",
    "# --- f: Python function if used as a standalone function.\n",
    "# --- returnType: The return type of the user-defined function.  The value can be either a \n",
    "#     pyspark.sql.types.DataType object, or a DDL-formatted type string.\n",
    "\n",
    "from pyspark.sql.types import IntegerType\n",
    "# pyspark.sql.types.IntegerType --> Int data type, i.e. a signed 32-bit integer."
   ]
  },
  {
   "cell_type": "code",
   "execution_count": 4,
   "metadata": {},
   "outputs": [],
   "source": [
    "# Create a DataFrame full of sentences.\n",
    "sen_df = spark.createDataFrame(data=[\n",
    "    (0, \"Hi I heard about Spark\"),\n",
    "    (1, \"I wish java could use case classes\"),\n",
    "    (2, \"Logistic,regression,models,are,neat\")\n",
    "], schema=[\"id\", \"sentence\"])"
   ]
  },
  {
   "cell_type": "code",
   "execution_count": 5,
   "metadata": {},
   "outputs": [
    {
     "name": "stdout",
     "output_type": "stream",
     "text": [
      "+---+--------------------+\n",
      "| id|            sentence|\n",
      "+---+--------------------+\n",
      "|  0|Hi I heard about ...|\n",
      "|  1|I wish java could...|\n",
      "|  2|Logistic,regressi...|\n",
      "+---+--------------------+\n",
      "\n"
     ]
    }
   ],
   "source": [
    "sen_df.show()\n",
    "# First 2 entries are split on the whitespace of the sentence.\n",
    "# The last entry is split on the comma \",\" character."
   ]
  },
  {
   "cell_type": "code",
   "execution_count": 6,
   "metadata": {},
   "outputs": [],
   "source": [
    "from pyspark.ml.feature import Tokenizer, RegexTokenizer\n",
    "# pyspark.ml.feature.Tokenizer(inputCol=None, outputCol=None) --> A tokenizer that converts the input string to\n",
    "# lowercase and then splits it by white space.\n",
    "\n",
    "# pyspark.ml.feature.RegexTokenizer(minTokenLength=1, gaps=True, pattern='\\s+', inputCol=None, outputCol=None, toLowercase=True)\n",
    "# --> A regex based tokenizer that extracts tokens either by using the provided regex pattern (in Java dialect)\n",
    "# to split the text (default) or repeatedly matching the regex (if gaps is false). Optional parameters also allows\n",
    "# filtering tokens using a minimal length.  It returns an array of strings that can be empty.\n",
    "# --- gaps: Whether regex splits on gaps (True) or matches tokens.\n",
    "# --- pattern:  Regex patter (Java dialect) used for tokenizing."
   ]
  },
  {
   "cell_type": "code",
   "execution_count": 7,
   "metadata": {},
   "outputs": [],
   "source": [
    "# Create the tokenizer objects.\n",
    "tokenizer = Tokenizer(inputCol=\"sentence\", outputCol=\"words\")"
   ]
  },
  {
   "cell_type": "code",
   "execution_count": 8,
   "metadata": {},
   "outputs": [],
   "source": [
    "regex_tokenizer = RegexTokenizer(inputCol=\"sentence\", outputCol=\"words\", pattern=\"\\\\W\")"
   ]
  },
  {
   "cell_type": "code",
   "execution_count": 9,
   "metadata": {},
   "outputs": [],
   "source": [
    "count_tokens = udf(lambda words: len(words), returnType=IntegerType())"
   ]
  },
  {
   "cell_type": "code",
   "execution_count": 10,
   "metadata": {},
   "outputs": [],
   "source": [
    "tokenized = tokenizer.transform(sen_df)"
   ]
  },
  {
   "cell_type": "code",
   "execution_count": 11,
   "metadata": {},
   "outputs": [
    {
     "name": "stdout",
     "output_type": "stream",
     "text": [
      "+---+--------------------+--------------------+\n",
      "| id|            sentence|               words|\n",
      "+---+--------------------+--------------------+\n",
      "|  0|Hi I heard about ...|[hi, i, heard, ab...|\n",
      "|  1|I wish java could...|[i, wish, java, c...|\n",
      "|  2|Logistic,regressi...|[logistic,regress...|\n",
      "+---+--------------------+--------------------+\n",
      "\n",
      "+--------------------+\n",
      "|               words|\n",
      "+--------------------+\n",
      "|[hi, i, heard, ab...|\n",
      "|[i, wish, java, c...|\n",
      "|[logistic,regress...|\n",
      "+--------------------+\n",
      "\n"
     ]
    }
   ],
   "source": [
    "tokenized.show()\n",
    "tokenized.select([\"words\"]).show()"
   ]
  },
  {
   "cell_type": "code",
   "execution_count": 12,
   "metadata": {},
   "outputs": [
    {
     "name": "stdout",
     "output_type": "stream",
     "text": [
      "+---+--------------------+--------------------+--------+\n",
      "| id|            sentence|               words|n_tokens|\n",
      "+---+--------------------+--------------------+--------+\n",
      "|  0|Hi I heard about ...|[hi, i, heard, ab...|       5|\n",
      "|  1|I wish java could...|[i, wish, java, c...|       7|\n",
      "|  2|Logistic,regressi...|[logistic,regress...|       1|\n",
      "+---+--------------------+--------------------+--------+\n",
      "\n"
     ]
    }
   ],
   "source": [
    "tokenized.withColumn(\"n_tokens\", count_tokens(col(\"words\"))).show()\n",
    "# The third sentence is just treated as one giant string, because there are no whitespaces to split on."
   ]
  },
  {
   "cell_type": "code",
   "execution_count": 13,
   "metadata": {},
   "outputs": [],
   "source": [
    "reg_tokenized = regex_tokenizer.transform(sen_df)"
   ]
  },
  {
   "cell_type": "code",
   "execution_count": 14,
   "metadata": {},
   "outputs": [
    {
     "name": "stdout",
     "output_type": "stream",
     "text": [
      "+---+--------------------+--------------------+\n",
      "| id|            sentence|               words|\n",
      "+---+--------------------+--------------------+\n",
      "|  0|Hi I heard about ...|[hi, i, heard, ab...|\n",
      "|  1|I wish java could...|[i, wish, java, c...|\n",
      "|  2|Logistic,regressi...|[logistic, regres...|\n",
      "+---+--------------------+--------------------+\n",
      "\n"
     ]
    }
   ],
   "source": [
    "reg_tokenized.show()"
   ]
  },
  {
   "cell_type": "code",
   "execution_count": 15,
   "metadata": {},
   "outputs": [
    {
     "name": "stdout",
     "output_type": "stream",
     "text": [
      "+---+--------------------+--------------------+--------+\n",
      "| id|            sentence|               words|n_tokens|\n",
      "+---+--------------------+--------------------+--------+\n",
      "|  0|Hi I heard about ...|[hi, i, heard, ab...|       5|\n",
      "|  1|I wish java could...|[i, wish, java, c...|       7|\n",
      "|  2|Logistic,regressi...|[logistic, regres...|       5|\n",
      "+---+--------------------+--------------------+--------+\n",
      "\n"
     ]
    }
   ],
   "source": [
    "reg_tokenized.withColumn(\"n_tokens\", count_tokens(col(\"words\"))).show()"
   ]
  },
  {
   "cell_type": "markdown",
   "metadata": {},
   "source": [
    "### Next we want to cover stop-word removal.\n",
    "\n",
    "These are words that don't carry a lot of meaning, such as: I, the, a, ..."
   ]
  },
  {
   "cell_type": "code",
   "execution_count": 16,
   "metadata": {},
   "outputs": [],
   "source": [
    "from pyspark.ml.feature import StopWordsRemover\n",
    "# pyspark.ml.feature.StopWordsRemover(inputCol=None, outputCol=None, stopWords=None, caseSensitive=False, locale=None)\n",
    "# --> A feature transformer that filters out stop words from the input.\n",
    "# --- locale: locale of the input, ignored when case sensitive is true.\n",
    "# --- stopWords: The words to be filtered out.\n",
    "# --- caseSensitive: Whether to do a case-sensitive comparison over the stop words."
   ]
  },
  {
   "cell_type": "code",
   "execution_count": 17,
   "metadata": {},
   "outputs": [],
   "source": [
    "sentence_df = spark.createDataFrame(data=[\n",
    "    (0, [\"I\", \"saw\", \"the\", \"green\", \"horse\"]),\n",
    "    (1, [\"Mary\", \"had\", \"a\", \"little\", \"lamb\"])\n",
    "], schema=[\"id\", \"tokens\"])"
   ]
  },
  {
   "cell_type": "code",
   "execution_count": 18,
   "metadata": {},
   "outputs": [
    {
     "name": "stdout",
     "output_type": "stream",
     "text": [
      "+---+--------------------+\n",
      "| id|              tokens|\n",
      "+---+--------------------+\n",
      "|  0|[I, saw, the, gre...|\n",
      "|  1|[Mary, had, a, li...|\n",
      "+---+--------------------+\n",
      "\n"
     ]
    }
   ],
   "source": [
    "sentence_df.show()"
   ]
  },
  {
   "cell_type": "code",
   "execution_count": 19,
   "metadata": {},
   "outputs": [],
   "source": [
    "remover = StopWordsRemover(inputCol=\"tokens\", outputCol=\"filtered\")"
   ]
  },
  {
   "cell_type": "code",
   "execution_count": 20,
   "metadata": {},
   "outputs": [
    {
     "name": "stdout",
     "output_type": "stream",
     "text": [
      "+---+--------------------+--------------------+\n",
      "| id|              tokens|            filtered|\n",
      "+---+--------------------+--------------------+\n",
      "|  0|[I, saw, the, gre...| [saw, green, horse]|\n",
      "|  1|[Mary, had, a, li...|[Mary, little, lamb]|\n",
      "+---+--------------------+--------------------+\n",
      "\n"
     ]
    }
   ],
   "source": [
    "remover.transform(sentence_df).show()"
   ]
  },
  {
   "cell_type": "markdown",
   "metadata": {},
   "source": [
    "### Next, we cover n-grams.\n",
    "\n",
    "n-gram is a sequence of n tokens (typically words) for some integer."
   ]
  },
  {
   "cell_type": "code",
   "execution_count": 21,
   "metadata": {},
   "outputs": [],
   "source": [
    "from pyspark.ml.feature import NGram\n",
    "# pyspark.ml.feature.NGram(n=2, inputCol=None, outputCol=None)\n",
    "\n",
    "# A feature transformer that converts the input array of strings into an array of n-grams.\n",
    "# Null values in the input array are ignored.\n",
    "# It returns an array of n-grams where each n-gram is represented by a space-separated string of words.\n",
    "# When the input is empty, an empty array is returned.\n",
    "# When the input array length is less than n (number of elements per n-gram), no n-grams are returned.\n",
    "# --- n: number of elements per n-gram (>=1)."
   ]
  },
  {
   "cell_type": "code",
   "execution_count": 22,
   "metadata": {},
   "outputs": [],
   "source": [
    "word_df = spark.createDataFrame(data=[\n",
    "    (0, [\"Hi\", \"I\", \"heard\", \"about\", \"Spark\"]),\n",
    "    (1, [\"I\", \"wish\", \"Java\", \"could\", \"use\", \"case\", \"classes\"]),\n",
    "    (2, [\"Logistic\", \"regression\", \"models\", \"are\", \"neat\"])\n",
    "], schema=[\"id\", \"words\"])"
   ]
  },
  {
   "cell_type": "code",
   "execution_count": 23,
   "metadata": {},
   "outputs": [],
   "source": [
    "ngram = NGram(n=2, inputCol=\"words\", outputCol=\"grams\")"
   ]
  },
  {
   "cell_type": "code",
   "execution_count": 24,
   "metadata": {},
   "outputs": [
    {
     "name": "stdout",
     "output_type": "stream",
     "text": [
      "+---+--------------------+--------------------+\n",
      "| id|               words|               grams|\n",
      "+---+--------------------+--------------------+\n",
      "|  0|[Hi, I, heard, ab...|[Hi I, I heard, h...|\n",
      "|  1|[I, wish, Java, c...|[I wish, wish Jav...|\n",
      "|  2|[Logistic, regres...|[Logistic regress...|\n",
      "+---+--------------------+--------------------+\n",
      "\n"
     ]
    }
   ],
   "source": [
    "ngram.transform(dataset=word_df).show()\n",
    "# The grams are representing strings of consecutive words."
   ]
  },
  {
   "cell_type": "code",
   "execution_count": 25,
   "metadata": {},
   "outputs": [
    {
     "name": "stdout",
     "output_type": "stream",
     "text": [
      "+------------------------------------------------------------------+\n",
      "|grams                                                             |\n",
      "+------------------------------------------------------------------+\n",
      "|[Hi I, I heard, heard about, about Spark]                         |\n",
      "|[I wish, wish Java, Java could, could use, use case, case classes]|\n",
      "|[Logistic regression, regression models, models are, are neat]    |\n",
      "+------------------------------------------------------------------+\n",
      "\n"
     ]
    }
   ],
   "source": [
    "ngram.transform(dataset=word_df).select(\"grams\").show(truncate=False)\n",
    "# Is useful if you want the relationship between 2 words"
   ]
  }
 ],
 "metadata": {
  "kernelspec": {
   "display_name": "Python 3",
   "language": "python",
   "name": "python3"
  },
  "language_info": {
   "codemirror_mode": {
    "name": "ipython",
    "version": 3
   },
   "file_extension": ".py",
   "mimetype": "text/x-python",
   "name": "python",
   "nbconvert_exporter": "python",
   "pygments_lexer": "ipython3",
   "version": "3.7.3"
  }
 },
 "nbformat": 4,
 "nbformat_minor": 2
}
