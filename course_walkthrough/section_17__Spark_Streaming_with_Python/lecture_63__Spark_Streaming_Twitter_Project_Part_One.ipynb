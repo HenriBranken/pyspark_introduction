{
 "cells": [
  {
   "cell_type": "markdown",
   "metadata": {},
   "source": [
    "# Spark Streaming Twitter Project, Part One\n",
    "\n",
    "Now it is time for your final project!\n",
    "\n",
    "We'll create a simple application that plots out the popularity of tags associated with incoming tweets streamed live from Twitter.\n",
    "\n",
    "We first need to create a Twitter Developer Account to get our access codes.\n",
    "\n",
    "Then you'll to install the tweepy library as well as matplotlib and seaborn.\n",
    "\n",
    "Let's get started by going to apps.twitter.com\n",
    "\n",
    "Follow along all the steps given in the presentation of Lecture 63."
   ]
  }
 ],
 "metadata": {
  "kernelspec": {
   "display_name": "Python 3",
   "language": "python",
   "name": "python3"
  },
  "language_info": {
   "codemirror_mode": {
    "name": "ipython",
    "version": 3
   },
   "file_extension": ".py",
   "mimetype": "text/x-python",
   "name": "python",
   "nbconvert_exporter": "python",
   "pygments_lexer": "ipython3",
   "version": "3.7.3"
  }
 },
 "nbformat": 4,
 "nbformat_minor": 2
}
