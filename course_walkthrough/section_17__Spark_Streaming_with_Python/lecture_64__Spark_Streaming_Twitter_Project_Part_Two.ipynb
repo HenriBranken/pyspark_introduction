{
 "cells": [
  {
   "cell_type": "markdown",
   "metadata": {},
   "source": [
    "# Spark Streaming Twitter Project, Part Two\n",
    "\n",
    "Our next task is to write a script that will connect to Twitter for streaming.\n",
    "\n",
    "This will be a ```.py``` file that we will call later on.\n",
    "\n",
    "Let's get started!"
   ]
  },
  {
   "cell_type": "code",
   "execution_count": null,
   "metadata": {},
   "outputs": [],
   "source": [
    "import tweepy\n",
    "from tweepy import OAuthHandler, Stream"
   ]
  },
  {
   "cell_type": "code",
   "execution_count": null,
   "metadata": {},
   "outputs": [],
   "source": [
    "from tweepy.streaming import StreamListener\n",
    "import socket\n",
    "import json"
   ]
  },
  {
   "cell_type": "code",
   "execution_count": null,
   "metadata": {},
   "outputs": [],
   "source": [
    "consumer_key = \"6fq27qIbXBDtOVsN2Dsu2285t\"\n",
    "consumer_secret = \"k3803izHW8Z6ACEBHJQRDWzH89Rdqnm18H2s8LUtPIZMRfYhGM\"\n",
    "access_token = \"1024968676053864450-9rB3Qp7ZyhmUeVgt99gf3ZjVGaCufu\"\n",
    "access_secret = \"R2qTwpux8XEmwMk8meFnual69WLGUKUAxJ41cj0UvSYjp\""
   ]
  },
  {
   "cell_type": "code",
   "execution_count": null,
   "metadata": {},
   "outputs": [],
   "source": [
    "# Create a class that will listen to the tweets themselves.\n",
    "# Create a function that sends the data through a socket."
   ]
  },
  {
   "cell_type": "code",
   "execution_count": null,
   "metadata": {},
   "outputs": [],
   "source": [
    "class TweetListener(StreamListener):\n",
    "    def __init__(self, csocket):\n",
    "        self.client_socket = csocket\n",
    "    \n",
    "    def on_data(self, data):\n",
    "        try:\n",
    "            msg = json.loads(data)\n",
    "            print(msg[\"text\"].encode('utf-8'))\n",
    "            self.client_socket.send(msg['text'].encode('utf-8'))\n",
    "            return True\n",
    "        except BaseException as e:\n",
    "            print(\"ERROR \", e)\n",
    "        return True\n",
    "    \n",
    "    def on_error(self, status):\n",
    "        print(status)\n",
    "        return True"
   ]
  },
  {
   "cell_type": "code",
   "execution_count": null,
   "metadata": {},
   "outputs": [],
   "source": [
    "def sendData(c_socket):  # Takes in a client socket.  Basically sets up our connection.\n",
    "    auth = OAuthHandler(consumer_key, consumer_secret)\n",
    "    auth.set_access_token(access_token, access_secret)\n",
    "    \n",
    "    twitter_stream = Stream(auth, TweetListener(csocket=c_socket))\n",
    "    twitter_stream.filter(track=[\"piano\"])  # Basically the topic that you can pick"
   ]
  },
  {
   "cell_type": "code",
   "execution_count": null,
   "metadata": {},
   "outputs": [],
   "source": [
    "if __name__ == \"__main__\":  # Essentially a way you can make files run.\n",
    "    s = socket.socket()\n",
    "    host = \"127.0.0.1\"  # localhost, which is your local machine.\n",
    "    port = 5555  # reserving a port for our connection service.\n",
    "    s.bind((host, port))\n",
    "    \n",
    "    print(\"Listening on port 5555\")\n",
    "    \n",
    "    s.listen(5)\n",
    "    c, addr = s.accept()  # That will establish a connection with the client.\n",
    "    \n",
    "    sendData(c)"
   ]
  },
  {
   "cell_type": "code",
   "execution_count": null,
   "metadata": {},
   "outputs": [],
   "source": []
  }
 ],
 "metadata": {
  "kernelspec": {
   "display_name": "Python 3",
   "language": "python",
   "name": "python3"
  },
  "language_info": {
   "codemirror_mode": {
    "name": "ipython",
    "version": 3
   },
   "file_extension": ".py",
   "mimetype": "text/x-python",
   "name": "python",
   "nbconvert_exporter": "python",
   "pygments_lexer": "ipython3",
   "version": "3.7.3"
  }
 },
 "nbformat": 4,
 "nbformat_minor": 2
}
